{
 "cells": [
  {
   "cell_type": "markdown",
   "metadata": {
    "id": "9owHpJecwq7g"
   },
   "source": [
    "# Fighting Fire with Data - Starter Notebook\n",
    "\n",
    "This notebook should help you get started with the 'Fighting Fire with Data' hackathon on Zindi. In it we cover:\n",
    "- Loading the data\n",
    "- Simple EDA and an example of feature enginnering\n",
    "- Suggestions for validation split\n",
    "- Creating a simple model\n",
    "- Making a submission\n",
    "- Some tips for improving your score\n"
   ]
  },
  {
   "cell_type": "code",
   "execution_count": null,
   "metadata": {
    "id": "pzFVe4pumCL5"
   },
   "outputs": [],
   "source": []
  },
  {
   "cell_type": "markdown",
   "metadata": {
    "id": "xKcJuq7bxof_"
   },
   "source": [
    "# Setup\n",
    "\n",
    "Make sure the files are available in the current directory. On Colab, upload them using the files tab on the left."
   ]
  },
  {
   "cell_type": "code",
   "execution_count": null,
   "metadata": {
    "id": "CFUIALvhfeIk"
   },
   "outputs": [],
   "source": [
    "#upload files to google collab\n",
    "from google.colab import files\n",
    "files.upload()"
   ]
  },
  {
   "cell_type": "code",
   "execution_count": null,
   "metadata": {
    "id": "lwa4zIHBGh41"
   },
   "outputs": [],
   "source": [
    "!ls *.csv # List files to check train, ss and test are present"
   ]
  },
  {
   "cell_type": "code",
   "execution_count": null,
   "metadata": {
    "id": "QA36Tx1lhrQi"
   },
   "outputs": [],
   "source": [
    "from google.colab import drive\n",
    "drive.mount('/content/drive')"
   ]
  },
  {
   "cell_type": "code",
   "execution_count": null,
   "metadata": {
    "id": "2lLzfdilxfsY"
   },
   "outputs": [],
   "source": [
    "import pandas as pd\n",
    "from sklearn.linear_model import RidgeCV\n",
    "from sklearn.ensemble import RandomForestRegressor\n",
    "from sklearn.metrics import mean_squared_error, r2_score\n",
    "from matplotlib import pyplot as plt"
   ]
  },
  {
   "cell_type": "code",
   "execution_count": null,
   "metadata": {
    "colab": {
     "base_uri": "https://localhost:8080/",
     "height": 299
    },
    "id": "uaQM7lJHxRoe",
    "outputId": "a848c27c-b4a2-49fd-cf64-b2588ecf16a1"
   },
   "outputs": [
    {
     "data": {
      "text/html": [
       "<div>\n",
       "<style scoped>\n",
       "    .dataframe tbody tr th:only-of-type {\n",
       "        vertical-align: middle;\n",
       "    }\n",
       "\n",
       "    .dataframe tbody tr th {\n",
       "        vertical-align: top;\n",
       "    }\n",
       "\n",
       "    .dataframe thead th {\n",
       "        text-align: right;\n",
       "    }\n",
       "</style>\n",
       "<table border=\"1\" class=\"dataframe\">\n",
       "  <thead>\n",
       "    <tr style=\"text-align: right;\">\n",
       "      <th></th>\n",
       "      <th>ID</th>\n",
       "      <th>lat</th>\n",
       "      <th>lon</th>\n",
       "      <th>burn_area</th>\n",
       "      <th>climate_aet</th>\n",
       "      <th>climate_def</th>\n",
       "      <th>climate_pdsi</th>\n",
       "      <th>climate_pet</th>\n",
       "      <th>climate_pr</th>\n",
       "      <th>climate_ro</th>\n",
       "      <th>climate_soil</th>\n",
       "      <th>climate_srad</th>\n",
       "      <th>climate_swe</th>\n",
       "      <th>climate_tmmn</th>\n",
       "      <th>climate_tmmx</th>\n",
       "      <th>climate_vap</th>\n",
       "      <th>climate_vpd</th>\n",
       "      <th>climate_vs</th>\n",
       "      <th>elevation</th>\n",
       "      <th>landcover_0</th>\n",
       "      <th>landcover_1</th>\n",
       "      <th>landcover_2</th>\n",
       "      <th>landcover_3</th>\n",
       "      <th>landcover_4</th>\n",
       "      <th>landcover_5</th>\n",
       "      <th>landcover_6</th>\n",
       "      <th>landcover_7</th>\n",
       "      <th>landcover_8</th>\n",
       "      <th>precipitation</th>\n",
       "    </tr>\n",
       "  </thead>\n",
       "  <tbody>\n",
       "    <tr>\n",
       "      <th>0</th>\n",
       "      <td>0_2001-01-01</td>\n",
       "      <td>-15.858835</td>\n",
       "      <td>29.237029</td>\n",
       "      <td>0.0</td>\n",
       "      <td>1195</td>\n",
       "      <td>0</td>\n",
       "      <td>263</td>\n",
       "      <td>1195</td>\n",
       "      <td>206</td>\n",
       "      <td>10</td>\n",
       "      <td>1692</td>\n",
       "      <td>1861</td>\n",
       "      <td>0</td>\n",
       "      <td>211</td>\n",
       "      <td>317</td>\n",
       "      <td>2493</td>\n",
       "      <td>111</td>\n",
       "      <td>141</td>\n",
       "      <td>413.474762</td>\n",
       "      <td>0.0</td>\n",
       "      <td>0.0</td>\n",
       "      <td>0.018654</td>\n",
       "      <td>0.0</td>\n",
       "      <td>0.714446</td>\n",
       "      <td>0.012174</td>\n",
       "      <td>0.244890</td>\n",
       "      <td>0.009836</td>\n",
       "      <td>0.0</td>\n",
       "      <td>0.256932</td>\n",
       "    </tr>\n",
       "    <tr>\n",
       "      <th>1</th>\n",
       "      <td>1_2001-01-01</td>\n",
       "      <td>-15.858835</td>\n",
       "      <td>29.487029</td>\n",
       "      <td>0.0</td>\n",
       "      <td>1196</td>\n",
       "      <td>0</td>\n",
       "      <td>232</td>\n",
       "      <td>1196</td>\n",
       "      <td>201</td>\n",
       "      <td>10</td>\n",
       "      <td>1859</td>\n",
       "      <td>1867</td>\n",
       "      <td>0</td>\n",
       "      <td>211</td>\n",
       "      <td>318</td>\n",
       "      <td>2497</td>\n",
       "      <td>112</td>\n",
       "      <td>138</td>\n",
       "      <td>429.034543</td>\n",
       "      <td>0.0</td>\n",
       "      <td>0.0</td>\n",
       "      <td>0.000000</td>\n",
       "      <td>0.0</td>\n",
       "      <td>0.654783</td>\n",
       "      <td>0.000095</td>\n",
       "      <td>0.345121</td>\n",
       "      <td>0.000000</td>\n",
       "      <td>0.0</td>\n",
       "      <td>0.273093</td>\n",
       "    </tr>\n",
       "    <tr>\n",
       "      <th>2</th>\n",
       "      <td>2_2001-01-01</td>\n",
       "      <td>-15.858835</td>\n",
       "      <td>29.737029</td>\n",
       "      <td>0.0</td>\n",
       "      <td>1190</td>\n",
       "      <td>0</td>\n",
       "      <td>314</td>\n",
       "      <td>1190</td>\n",
       "      <td>192</td>\n",
       "      <td>10</td>\n",
       "      <td>1677</td>\n",
       "      <td>1861</td>\n",
       "      <td>0</td>\n",
       "      <td>208</td>\n",
       "      <td>317</td>\n",
       "      <td>2486</td>\n",
       "      <td>109</td>\n",
       "      <td>141</td>\n",
       "      <td>477.246432</td>\n",
       "      <td>0.0</td>\n",
       "      <td>0.0</td>\n",
       "      <td>0.000000</td>\n",
       "      <td>0.0</td>\n",
       "      <td>0.516421</td>\n",
       "      <td>0.000000</td>\n",
       "      <td>0.483579</td>\n",
       "      <td>0.000000</td>\n",
       "      <td>0.0</td>\n",
       "      <td>0.285109</td>\n",
       "    </tr>\n",
       "    <tr>\n",
       "      <th>3</th>\n",
       "      <td>3_2001-01-01</td>\n",
       "      <td>-15.858835</td>\n",
       "      <td>29.987029</td>\n",
       "      <td>0.0</td>\n",
       "      <td>1144</td>\n",
       "      <td>0</td>\n",
       "      <td>321</td>\n",
       "      <td>1144</td>\n",
       "      <td>186</td>\n",
       "      <td>66</td>\n",
       "      <td>1061</td>\n",
       "      <td>1864</td>\n",
       "      <td>0</td>\n",
       "      <td>196</td>\n",
       "      <td>303</td>\n",
       "      <td>2333</td>\n",
       "      <td>98</td>\n",
       "      <td>124</td>\n",
       "      <td>646.388681</td>\n",
       "      <td>0.0</td>\n",
       "      <td>0.0</td>\n",
       "      <td>0.000000</td>\n",
       "      <td>0.0</td>\n",
       "      <td>0.299000</td>\n",
       "      <td>0.163902</td>\n",
       "      <td>0.537098</td>\n",
       "      <td>0.000000</td>\n",
       "      <td>0.0</td>\n",
       "      <td>0.298418</td>\n",
       "    </tr>\n",
       "    <tr>\n",
       "      <th>4</th>\n",
       "      <td>4_2001-01-01</td>\n",
       "      <td>-15.858835</td>\n",
       "      <td>30.237029</td>\n",
       "      <td>0.0</td>\n",
       "      <td>1187</td>\n",
       "      <td>0</td>\n",
       "      <td>413</td>\n",
       "      <td>1187</td>\n",
       "      <td>186</td>\n",
       "      <td>9</td>\n",
       "      <td>1714</td>\n",
       "      <td>1852</td>\n",
       "      <td>0</td>\n",
       "      <td>204</td>\n",
       "      <td>314</td>\n",
       "      <td>2426</td>\n",
       "      <td>109</td>\n",
       "      <td>145</td>\n",
       "      <td>582.340637</td>\n",
       "      <td>0.0</td>\n",
       "      <td>0.0</td>\n",
       "      <td>0.000000</td>\n",
       "      <td>0.0</td>\n",
       "      <td>0.277392</td>\n",
       "      <td>0.067742</td>\n",
       "      <td>0.654866</td>\n",
       "      <td>0.000000</td>\n",
       "      <td>0.0</td>\n",
       "      <td>0.315621</td>\n",
       "    </tr>\n",
       "  </tbody>\n",
       "</table>\n",
       "</div>"
      ],
      "text/plain": [
       "             ID        lat        lon  ...  landcover_7  landcover_8  precipitation\n",
       "0  0_2001-01-01 -15.858835  29.237029  ...     0.009836          0.0       0.256932\n",
       "1  1_2001-01-01 -15.858835  29.487029  ...     0.000000          0.0       0.273093\n",
       "2  2_2001-01-01 -15.858835  29.737029  ...     0.000000          0.0       0.285109\n",
       "3  3_2001-01-01 -15.858835  29.987029  ...     0.000000          0.0       0.298418\n",
       "4  4_2001-01-01 -15.858835  30.237029  ...     0.000000          0.0       0.315621\n",
       "\n",
       "[5 rows x 29 columns]"
      ]
     },
     "execution_count": 83,
     "metadata": {
      "tags": []
     },
     "output_type": "execute_result"
    }
   ],
   "source": [
    "# The training data.\n",
    "train = pd.read_csv('Train.csv')\n",
    "train.head()\n"
   ]
  },
  {
   "cell_type": "code",
   "execution_count": null,
   "metadata": {
    "colab": {
     "base_uri": "https://localhost:8080/"
    },
    "id": "U9eEqq5JuS_E",
    "outputId": "5cef5122-035b-4f53-d52d-c32c71ae28a4"
   },
   "outputs": [
    {
     "name": "stdout",
     "output_type": "stream",
     "text": [
      "<class 'pandas.core.frame.DataFrame'>\n",
      "RangeIndex: 83148 entries, 0 to 83147\n",
      "Data columns (total 29 columns):\n",
      " #   Column         Non-Null Count  Dtype  \n",
      "---  ------         --------------  -----  \n",
      " 0   ID             83148 non-null  object \n",
      " 1   lat            83148 non-null  float64\n",
      " 2   lon            83148 non-null  float64\n",
      " 3   burn_area      83148 non-null  float64\n",
      " 4   climate_aet    83148 non-null  int64  \n",
      " 5   climate_def    83148 non-null  int64  \n",
      " 6   climate_pdsi   83148 non-null  int64  \n",
      " 7   climate_pet    83148 non-null  int64  \n",
      " 8   climate_pr     83148 non-null  int64  \n",
      " 9   climate_ro     83148 non-null  int64  \n",
      " 10  climate_soil   83148 non-null  int64  \n",
      " 11  climate_srad   83148 non-null  int64  \n",
      " 12  climate_swe    83148 non-null  int64  \n",
      " 13  climate_tmmn   83148 non-null  int64  \n",
      " 14  climate_tmmx   83148 non-null  int64  \n",
      " 15  climate_vap    83148 non-null  int64  \n",
      " 16  climate_vpd    83148 non-null  int64  \n",
      " 17  climate_vs     83148 non-null  int64  \n",
      " 18  elevation      83148 non-null  float64\n",
      " 19  landcover_0    83148 non-null  float64\n",
      " 20  landcover_1    83148 non-null  float64\n",
      " 21  landcover_2    83148 non-null  float64\n",
      " 22  landcover_3    83148 non-null  float64\n",
      " 23  landcover_4    83148 non-null  float64\n",
      " 24  landcover_5    83148 non-null  float64\n",
      " 25  landcover_6    83148 non-null  float64\n",
      " 26  landcover_7    83148 non-null  float64\n",
      " 27  landcover_8    83148 non-null  float64\n",
      " 28  precipitation  83148 non-null  float64\n",
      "dtypes: float64(14), int64(14), object(1)\n",
      "memory usage: 18.4+ MB\n"
     ]
    }
   ],
   "source": [
    "# viewing summary info\n",
    "train.info()"
   ]
  },
  {
   "cell_type": "code",
   "execution_count": null,
   "metadata": {
    "colab": {
     "base_uri": "https://localhost:8080/",
     "height": 114
    },
    "id": "RHksNuWBxeDn",
    "outputId": "1604a58b-2ff7-43ca-bbcf-c7c7827e0103"
   },
   "outputs": [
    {
     "data": {
      "text/html": [
       "<div>\n",
       "<style scoped>\n",
       "    .dataframe tbody tr th:only-of-type {\n",
       "        vertical-align: middle;\n",
       "    }\n",
       "\n",
       "    .dataframe tbody tr th {\n",
       "        vertical-align: top;\n",
       "    }\n",
       "\n",
       "    .dataframe thead th {\n",
       "        text-align: right;\n",
       "    }\n",
       "</style>\n",
       "<table border=\"1\" class=\"dataframe\">\n",
       "  <thead>\n",
       "    <tr style=\"text-align: right;\">\n",
       "      <th></th>\n",
       "      <th>ID</th>\n",
       "      <th>lat</th>\n",
       "      <th>lon</th>\n",
       "      <th>climate_aet</th>\n",
       "      <th>climate_def</th>\n",
       "      <th>climate_pdsi</th>\n",
       "      <th>climate_pet</th>\n",
       "      <th>climate_pr</th>\n",
       "      <th>climate_ro</th>\n",
       "      <th>climate_soil</th>\n",
       "      <th>climate_srad</th>\n",
       "      <th>climate_swe</th>\n",
       "      <th>climate_tmmn</th>\n",
       "      <th>climate_tmmx</th>\n",
       "      <th>climate_vap</th>\n",
       "      <th>climate_vpd</th>\n",
       "      <th>climate_vs</th>\n",
       "      <th>elevation</th>\n",
       "      <th>landcover_0</th>\n",
       "      <th>landcover_1</th>\n",
       "      <th>landcover_2</th>\n",
       "      <th>landcover_3</th>\n",
       "      <th>landcover_4</th>\n",
       "      <th>landcover_5</th>\n",
       "      <th>landcover_6</th>\n",
       "      <th>landcover_7</th>\n",
       "      <th>landcover_8</th>\n",
       "      <th>precipitation</th>\n",
       "    </tr>\n",
       "  </thead>\n",
       "  <tbody>\n",
       "    <tr>\n",
       "      <th>0</th>\n",
       "      <td>0_2014-01-01</td>\n",
       "      <td>-15.858835</td>\n",
       "      <td>29.237029</td>\n",
       "      <td>1146</td>\n",
       "      <td>74</td>\n",
       "      <td>-451</td>\n",
       "      <td>1220</td>\n",
       "      <td>120</td>\n",
       "      <td>6</td>\n",
       "      <td>212</td>\n",
       "      <td>1974</td>\n",
       "      <td>0</td>\n",
       "      <td>217</td>\n",
       "      <td>303</td>\n",
       "      <td>2481</td>\n",
       "      <td>99</td>\n",
       "      <td>148</td>\n",
       "      <td>413.474762</td>\n",
       "      <td>0.0</td>\n",
       "      <td>0.000615</td>\n",
       "      <td>0.015418</td>\n",
       "      <td>0.0</td>\n",
       "      <td>0.416704</td>\n",
       "      <td>0.023724</td>\n",
       "      <td>0.530016</td>\n",
       "      <td>0.013524</td>\n",
       "      <td>0.0</td>\n",
       "      <td>0.404243</td>\n",
       "    </tr>\n",
       "  </tbody>\n",
       "</table>\n",
       "</div>"
      ],
      "text/plain": [
       "             ID        lat        lon  ...  landcover_7  landcover_8  precipitation\n",
       "0  0_2014-01-01 -15.858835  29.237029  ...     0.013524          0.0       0.404243\n",
       "\n",
       "[1 rows x 28 columns]"
      ]
     },
     "execution_count": 11,
     "metadata": {
      "tags": []
     },
     "output_type": "execute_result"
    }
   ],
   "source": [
    "# The test set - notice there is no 'burn_area' column.\n",
    "test = pd.read_csv('Test.csv')\n",
    "test.head(1)"
   ]
  },
  {
   "cell_type": "markdown",
   "metadata": {
    "id": "Tnl3iVg5xqfA"
   },
   "source": [
    "# EDA + Feature Engineering"
   ]
  },
  {
   "cell_type": "code",
   "execution_count": null,
   "metadata": {
    "colab": {
     "base_uri": "https://localhost:8080/",
     "height": 356
    },
    "id": "DG4siNyqxrsi",
    "outputId": "067e515e-1273-4aee-9e0e-22f269266ead"
   },
   "outputs": [
    {
     "data": {
      "text/plain": [
       "<matplotlib.axes._subplots.AxesSubplot at 0x7fdcaec74f60>"
      ]
     },
     "execution_count": 12,
     "metadata": {
      "tags": []
     },
     "output_type": "execute_result"
    },
    {
     "data": {
      "image/png": "[encoded data removed]",
      "text/plain": [
       "<Figure size 1296x432 with 1 Axes>"
      ]
     },
     "metadata": {
      "needs_background": "light",
      "tags": []
     },
     "output_type": "display_data"
    }
   ],
   "source": [
    "# Look at correlation with target\n",
    "train.corr()['burn_area'].sort_values().plot(kind='bar', figsize=(18, 6))"
   ]
  },
  {
   "cell_type": "code",
   "execution_count": null,
   "metadata": {
    "colab": {
     "base_uri": "https://localhost:8080/",
     "height": 282
    },
    "id": "DLVC6pU91PPE",
    "outputId": "fbab7b04-bbf4-441c-ff1c-a540d751c8a4"
   },
   "outputs": [
    {
     "data": {
      "text/plain": [
       "<matplotlib.collections.PathCollection at 0x7fdcae63f438>"
      ]
     },
     "execution_count": 13,
     "metadata": {
      "tags": []
     },
     "output_type": "execute_result"
    },
    {
     "data": {
      "image/png": "[encoded data removed]",
      "text/plain": [
       "<Figure size 432x288 with 1 Axes>"
      ]
     },
     "metadata": {
      "needs_background": "light",
      "tags": []
     },
     "output_type": "display_data"
    }
   ],
   "source": [
    "# Look at some scatter plots (only plotting for a subset of data to keep things fast)\n",
    "sample = train.sample(10000)\n",
    "plt.scatter(sample['climate_vap'], sample['burn_area'], alpha=0.3)"
   ]
  },
  {
   "cell_type": "code",
   "execution_count": null,
   "metadata": {
    "colab": {
     "base_uri": "https://localhost:8080/",
     "height": 282
    },
    "id": "Fp-Wq1zrCets",
    "outputId": "40f6bc29-3dd9-4ad3-ac44-536ba1c5a2d5"
   },
   "outputs": [
    {
     "data": {
      "text/plain": [
       "<matplotlib.collections.PathCollection at 0x7fdc92fce908>"
      ]
     },
     "execution_count": 84,
     "metadata": {
      "tags": []
     },
     "output_type": "execute_result"
    },
    {
     "data": {
      "image/png": "[encoded data removed]",
      "text/plain": [
       "<Figure size 432x288 with 1 Axes>"
      ]
     },
     "metadata": {
      "needs_background": "light",
      "tags": []
     },
     "output_type": "display_data"
    }
   ],
   "source": [
    "# Most fires occur when there's very little rain.\n",
    "plt.scatter(sample['climate_pr'], sample['burn_area'], alpha=0.3)"
   ]
  },
  {
   "cell_type": "markdown",
   "metadata": {
    "id": "xXIk62X9iONj"
   },
   "source": [
    "##  Adding date features"
   ]
  },
  {
   "cell_type": "code",
   "execution_count": null,
   "metadata": {
    "id": "pn-SKQxiHAon"
   },
   "outputs": [],
   "source": [
    "# Split the ID (eg 127_2017-01-03) to get the date string, which we convert to datetime to make life easier\n",
    "train['date'] = pd.to_datetime(train['ID'].apply(lambda x: x.split('_')[1])) \n",
    "test['date'] = pd.to_datetime(test['ID'].apply(lambda x: x.split('_')[1])) "
   ]
  },
  {
   "cell_type": "code",
   "execution_count": null,
   "metadata": {
    "colab": {
     "base_uri": "https://localhost:8080/",
     "height": 299
    },
    "id": "bag8HJpxCucw",
    "outputId": "05cd77f4-f11d-4d3f-90f1-d2194b66dc0a"
   },
   "outputs": [
    {
     "data": {
      "text/plain": [
       "<matplotlib.axes._subplots.AxesSubplot at 0x7fdcae4b6080>"
      ]
     },
     "execution_count": 86,
     "metadata": {
      "tags": []
     },
     "output_type": "execute_result"
    },
    {
     "data": {
      "image/png": "[encoded data removed]",
      "text/plain": [
       "<Figure size 432x288 with 1 Axes>"
      ]
     },
     "metadata": {
      "needs_background": "light",
      "tags": []
     },
     "output_type": "display_data"
    }
   ],
   "source": [
    "# Date variables\n",
    "train['month'] = train.date.dt.month\n",
    "train['year'] = train.date.dt.year\n",
    "\n",
    "# Plotting mean burn_area for each month - very strong mid-year peak (dry season)\n",
    "train.groupby('month').mean().reset_index().plot(y='burn_area', x='month', kind='bar')"
   ]
  },
  {
   "cell_type": "code",
   "execution_count": null,
   "metadata": {
    "colab": {
     "base_uri": "https://localhost:8080/",
     "height": 289
    },
    "id": "9jYhXvyyN168",
    "outputId": "7f203641-c9ca-4f37-bdc6-ffec9ae6591b"
   },
   "outputs": [
    {
     "data": {
      "text/plain": [
       "<matplotlib.axes._subplots.AxesSubplot at 0x7fdc9278f668>"
      ]
     },
     "execution_count": 87,
     "metadata": {
      "tags": []
     },
     "output_type": "execute_result"
    },
    {
     "data": {
      "image/png": "[encoded data removed]",
      "text/plain": [
       "<Figure size 1296x432 with 1 Axes>"
      ]
     },
     "metadata": {
      "needs_background": "light",
      "tags": []
     },
     "output_type": "display_data"
    }
   ],
   "source": [
    "# Look at correlation with target\n",
    "train.corr()['burn_area'].sort_values().plot(kind='bar', figsize=(18, 6))"
   ]
  },
  {
   "cell_type": "code",
   "execution_count": null,
   "metadata": {
    "colab": {
     "base_uri": "https://localhost:8080/",
     "height": 300
    },
    "id": "o-Z-G6eMCznI",
    "outputId": "6fd26df5-6814-4ff1-e7a3-a57ca6a61694"
   },
   "outputs": [
    {
     "data": {
      "text/plain": [
       "<matplotlib.axes._subplots.AxesSubplot at 0x7fdc92720668>"
      ]
     },
     "execution_count": 88,
     "metadata": {
      "tags": []
     },
     "output_type": "execute_result"
    },
    {
     "data": {
      "image/png": "[encoded data removed]",
      "text/plain": [
       "<Figure size 432x288 with 1 Axes>"
      ]
     },
     "metadata": {
      "needs_background": "light",
      "tags": []
     },
     "output_type": "display_data"
    }
   ],
   "source": [
    "# Plot trend year-on-year\n",
    "train.groupby('year').mean().reset_index().plot(y='burn_area', x='year', ylim=(0, 0.03))"
   ]
  },
  {
   "cell_type": "code",
   "execution_count": null,
   "metadata": {
    "id": "M46ayKhyOhWc"
   },
   "outputs": [],
   "source": []
  },
  {
   "cell_type": "code",
   "execution_count": null,
   "metadata": {
    "colab": {
     "base_uri": "https://localhost:8080/",
     "height": 229
    },
    "id": "BCU3WP5fEAHq",
    "outputId": "c7756dc9-8848-47aa-9a82-84f17c9ae9e3"
   },
   "outputs": [
    {
     "data": {
      "text/plain": [
       "<matplotlib.axes._subplots.AxesSubplot at 0x7fdc926189b0>"
      ]
     },
     "execution_count": 89,
     "metadata": {
      "tags": []
     },
     "output_type": "execute_result"
    },
    {
     "data": {
      "image/png": "[encoded data removed]",
      "text/plain": [
       "<Figure size 1296x360 with 1 Axes>"
      ]
     },
     "metadata": {
      "needs_background": "light",
      "tags": []
     },
     "output_type": "display_data"
    }
   ],
   "source": [
    "# Let's plot precipitation and burn area on the same plot - note the strong periodic component to both.\n",
    "ax = train.groupby('date').mean().reset_index().plot(y='burn_area', x='date', figsize=(18, 5))\n",
    "train.groupby('date').mean().reset_index().plot(y='precipitation', x='date', ax=ax)"
   ]
  },
  {
   "cell_type": "markdown",
   "metadata": {
    "id": "mgzvz9iji1hb"
   },
   "source": [
    "## Adding more features - some ideas\n",
    "\n",
    "\n",
    "\n",
    "\n",
    "*   Read the list of climate variables and what they mean. See if you can combine them in interesting ways - perhaps a 'hot_and_dry' metric...\n",
    "*   Fire depends on some processes that take a long time - for example, there may be more fuel if the previous growing season was a good one. Consider some lagged variables to give the model some inputs for what came before the current month.\n",
    "*   Make some categorical features - 'dominant_land_type' or 'is_peak_rainfall'. \n",
    "*   ...\n",
    "\n"
   ]
  },
  {
   "cell_type": "markdown",
   "metadata": {
    "id": "RDCOsUvCz3dA"
   },
   "source": [
    "# Data Split for Validation\n",
    "\n",
    "We don't want to just split randomly - this would give us artificially high scores. Instead, let's use the last 3 years of the dataset for validation to more closely match the test configuration."
   ]
  },
  {
   "cell_type": "code",
   "execution_count": null,
   "metadata": {
    "colab": {
     "base_uri": "https://localhost:8080/",
     "height": 918
    },
    "id": "SCk5CZKI0Kt4",
    "outputId": "b8652126-1c65-4104-90d9-67ba1efa4191"
   },
   "outputs": [
    {
     "name": "stdout",
     "output_type": "stream",
     "text": [
      "<class 'pandas.core.frame.DataFrame'>\n",
      "Int64Index: 63960 entries, 0 to 63959\n",
      "Data columns (total 32 columns):\n",
      " #   Column         Non-Null Count  Dtype         \n",
      "---  ------         --------------  -----         \n",
      " 0   ID             63960 non-null  object        \n",
      " 1   lat            63960 non-null  float64       \n",
      " 2   lon            63960 non-null  float64       \n",
      " 3   burn_area      63960 non-null  float64       \n",
      " 4   climate_aet    63960 non-null  int64         \n",
      " 5   climate_def    63960 non-null  int64         \n",
      " 6   climate_pdsi   63960 non-null  int64         \n",
      " 7   climate_pet    63960 non-null  int64         \n",
      " 8   climate_pr     63960 non-null  int64         \n",
      " 9   climate_ro     63960 non-null  int64         \n",
      " 10  climate_soil   63960 non-null  int64         \n",
      " 11  climate_srad   63960 non-null  int64         \n",
      " 12  climate_swe    63960 non-null  int64         \n",
      " 13  climate_tmmn   63960 non-null  int64         \n",
      " 14  climate_tmmx   63960 non-null  int64         \n",
      " 15  climate_vap    63960 non-null  int64         \n",
      " 16  climate_vpd    63960 non-null  int64         \n",
      " 17  climate_vs     63960 non-null  int64         \n",
      " 18  elevation      63960 non-null  float64       \n",
      " 19  landcover_0    63960 non-null  float64       \n",
      " 20  landcover_1    63960 non-null  float64       \n",
      " 21  landcover_2    63960 non-null  float64       \n",
      " 22  landcover_3    63960 non-null  float64       \n",
      " 23  landcover_4    63960 non-null  float64       \n",
      " 24  landcover_5    63960 non-null  float64       \n",
      " 25  landcover_6    63960 non-null  float64       \n",
      " 26  landcover_7    63960 non-null  float64       \n",
      " 27  landcover_8    63960 non-null  float64       \n",
      " 28  precipitation  63960 non-null  float64       \n",
      " 29  date           63960 non-null  datetime64[ns]\n",
      " 30  month          63960 non-null  int64         \n",
      " 31  year           63960 non-null  int64         \n",
      "dtypes: datetime64[ns](1), float64(14), int64(16), object(1)\n",
      "memory usage: 16.1+ MB\n"
     ]
    },
    {
     "ename": "TypeError",
     "evalue": "ignored",
     "output_type": "error",
     "traceback": [
      "\u001b[0;31m---------------------------------------------------------------------------\u001b[0m",
      "\u001b[0;31mTypeError\u001b[0m                                 Traceback (most recent call last)",
      "\u001b[0;32m<ipython-input-191-254b6c80cc77>\u001b[0m in \u001b[0;36m<module>\u001b[0;34m()\u001b[0m\n\u001b[1;32m      5\u001b[0m \u001b[0mtrain_all\u001b[0m \u001b[0;34m=\u001b[0m \u001b[0mnp\u001b[0m\u001b[0;34m.\u001b[0m\u001b[0marray\u001b[0m\u001b[0;34m(\u001b[0m\u001b[0mtrain_all\u001b[0m\u001b[0;34m)\u001b[0m\u001b[0;34m\u001b[0m\u001b[0;34m\u001b[0m\u001b[0m\n\u001b[1;32m      6\u001b[0m \u001b[0;32mfor\u001b[0m \u001b[0mi\u001b[0m \u001b[0;32min\u001b[0m \u001b[0mrange\u001b[0m\u001b[0;34m(\u001b[0m\u001b[0;36m0\u001b[0m\u001b[0;34m,\u001b[0m \u001b[0mlen\u001b[0m\u001b[0;34m(\u001b[0m\u001b[0mtrain_all\u001b[0m\u001b[0;34m[\u001b[0m\u001b[0;36m0\u001b[0m\u001b[0;34m]\u001b[0m\u001b[0;34m)\u001b[0m\u001b[0;34m)\u001b[0m\u001b[0;34m:\u001b[0m\u001b[0;34m\u001b[0m\u001b[0;34m\u001b[0m\u001b[0m\n\u001b[0;32m----> 7\u001b[0;31m   \u001b[0;32mif\u001b[0m \u001b[0misinstance\u001b[0m\u001b[0;34m(\u001b[0m\u001b[0mtrain_all\u001b[0m\u001b[0;34m[\u001b[0m\u001b[0;36m0\u001b[0m\u001b[0;34m,\u001b[0m \u001b[0mi\u001b[0m\u001b[0;34m]\u001b[0m\u001b[0;34m,\u001b[0m \u001b[0mdatetime\u001b[0m\u001b[0;34m.\u001b[0m\u001b[0mdate\u001b[0m\u001b[0;34m)\u001b[0m\u001b[0;34m:\u001b[0m\u001b[0;34m\u001b[0m\u001b[0;34m\u001b[0m\u001b[0m\n\u001b[0m\u001b[1;32m      8\u001b[0m     \u001b[0;32mcontinue\u001b[0m\u001b[0;34m\u001b[0m\u001b[0;34m\u001b[0m\u001b[0m\n\u001b[1;32m      9\u001b[0m   \u001b[0mminX\u001b[0m \u001b[0;34m=\u001b[0m \u001b[0mmin\u001b[0m\u001b[0;34m(\u001b[0m\u001b[0mtrain_all\u001b[0m\u001b[0;34m[\u001b[0m\u001b[0;34m:\u001b[0m\u001b[0;34m,\u001b[0m \u001b[0mi\u001b[0m\u001b[0;34m]\u001b[0m\u001b[0;34m)\u001b[0m\u001b[0;34m\u001b[0m\u001b[0;34m\u001b[0m\u001b[0m\n",
      "\u001b[0;31mTypeError\u001b[0m: isinstance() arg 2 must be a type or tuple of types"
     ]
    }
   ],
   "source": [
    "import numpy as np\n",
    "from datetime import datetime\n",
    "train_all = train.copy().dropna()\n",
    "train_all.info()\n",
    "# train_all = np.array(train_all)\n",
    "# for i in range(0, len(train_all[0])):\n",
    "#   if isinstance(train_all[0, i], datetime.date):\n",
    "#     continue\n",
    "#   minX = min(train_all[:, i])\n",
    "#   maxX = max(train_all[:, i])\n",
    "#   train_all[:, i] = (train_all[:, i] - minX) / (maxX - minX)\n",
    "\n",
    "train = train_all.loc[train_all.date < '2011-01-01']\n",
    "valid = train_all.loc[train_all.date > '2011-01-01']\n",
    "\n",
    "       \n",
    "print(train.shape, valid.shape)"
   ]
  },
  {
   "cell_type": "code",
   "execution_count": null,
   "metadata": {
    "colab": {
     "base_uri": "https://localhost:8080/",
     "height": 195
    },
    "id": "ef9Z9lD_JDZB",
    "outputId": "25fe31c7-d94e-47e6-9378-645e73ec668d"
   },
   "outputs": [
    {
     "ename": "AttributeError",
     "evalue": "ignored",
     "output_type": "error",
     "traceback": [
      "\u001b[0;31m---------------------------------------------------------------------------\u001b[0m",
      "\u001b[0;31mAttributeError\u001b[0m                            Traceback (most recent call last)",
      "\u001b[0;32m<ipython-input-182-c2e0c24471ca>\u001b[0m in \u001b[0;36m<module>\u001b[0;34m()\u001b[0m\n\u001b[0;32m----> 1\u001b[0;31m \u001b[0mtrain_all\u001b[0m\u001b[0;34m.\u001b[0m\u001b[0minfo\u001b[0m\u001b[0;34m(\u001b[0m\u001b[0;34m)\u001b[0m\u001b[0;34m\u001b[0m\u001b[0;34m\u001b[0m\u001b[0m\n\u001b[0m",
      "\u001b[0;31mAttributeError\u001b[0m: 'numpy.ndarray' object has no attribute 'info'"
     ]
    }
   ],
   "source": []
  },
  {
   "cell_type": "code",
   "execution_count": null,
   "metadata": {
    "id": "SPhX2oViZc4C"
   },
   "outputs": [],
   "source": [
    "def forward_regression(X, y,\n",
    "                       threshold_in,\n",
    "                       verbose=False):\n",
    "    initial_list = []\n",
    "    included = list(initial_list)\n",
    "    while True:\n",
    "        changed=False\n",
    "        excluded = list(set(X.columns)-set(included))\n",
    "        new_pval = pd.Series(index=excluded)\n",
    "        for new_column in excluded:\n",
    "            model = sm.OLS(y, sm.add_constant(pd.DataFrame(X[included+[new_column]]))).fit()\n",
    "            new_pval[new_column] = model.pvalues[new_column]\n",
    "        best_pval = new_pval.min()\n",
    "        if best_pval < threshold_in:\n",
    "            best_feature = new_pval.idxmin()\n",
    "            included.append(best_feature)\n",
    "            changed=True\n",
    "            if verbose:\n",
    "                print('Add  {:30} with p-value {:.6}'.format(best_feature, best_pval))\n",
    "\n",
    "        if not changed:\n",
    "            break\n",
    "\n",
    "    return included"
   ]
  },
  {
   "cell_type": "code",
   "execution_count": null,
   "metadata": {
    "id": "qxBgl6DtZr0H"
   },
   "outputs": [],
   "source": [
    "def backward_regression(X, y,\n",
    "                           threshold_out,\n",
    "                           verbose=False):\n",
    "    included=list(X.columns)\n",
    "    while True:\n",
    "        changed=False\n",
    "        model = sm.OLS(y, sm.add_constant(pd.DataFrame(X[included]))).fit()\n",
    "        # use all coefs except intercept\n",
    "        pvalues = model.pvalues.iloc[1:]\n",
    "        worst_pval = pvalues.max() # null if pvalues is empty\n",
    "        if worst_pval > threshold_out:\n",
    "            changed=True\n",
    "            worst_feature = pvalues.idxmax()\n",
    "            included.remove(worst_feature)\n",
    "            if verbose:\n",
    "                print('Drop {:30} with p-value {:.6}'.format(worst_feature, worst_pval))\n",
    "        if not changed:\n",
    "            break\n",
    "    return included"
   ]
  },
  {
   "cell_type": "code",
   "execution_count": null,
   "metadata": {
    "colab": {
     "base_uri": "https://localhost:8080/"
    },
    "id": "0O0e9y8faEBs",
    "outputId": "8f991e8e-350f-4135-c9ae-dd096ebcf573"
   },
   "outputs": [
    {
     "name": "stderr",
     "output_type": "stream",
     "text": [
      "/usr/local/lib/python3.6/dist-packages/ipykernel_launcher.py:9: DeprecationWarning: The default dtype for empty Series will be 'object' instead of 'float64' in a future version. Specify a dtype explicitly to silence this warning.\n",
      "  if __name__ == '__main__':\n"
     ]
    }
   ],
   "source": [
    "import statsmodels.api as sm\n",
    "included_features = forward_regression(X_train,y_train,0.05,False)"
   ]
  },
  {
   "cell_type": "code",
   "execution_count": null,
   "metadata": {
    "id": "qV9TidCJaMHS"
   },
   "outputs": [],
   "source": [
    "X_train, y_train = train[in_cols], train[target_col]\n",
    "X_valid, y_valid = valid[in_cols], valid[target_col]\n",
    "# added_features = forward_regression(X_train,y_train,0.05)"
   ]
  },
  {
   "cell_type": "markdown",
   "metadata": {
    "id": "sIRFzOxTx3sE"
   },
   "source": [
    "# Simple Model"
   ]
  },
  {
   "cell_type": "code",
   "execution_count": null,
   "metadata": {
    "colab": {
     "base_uri": "https://localhost:8080/"
    },
    "id": "hMjgH87RzOqX",
    "outputId": "9095c58c-d6d4-46de-df54-ffae918b6879"
   },
   "outputs": [
    {
     "data": {
      "text/plain": [
       "29"
      ]
     },
     "execution_count": 146,
     "metadata": {
      "tags": []
     },
     "output_type": "execute_result"
    }
   ],
   "source": [
    "# Define input and output columns - you can play with adding or removing inputs to the model\n",
    "in_cols = ['climate_aet', 'climate_def',\n",
    "       'climate_pdsi', 'climate_pet', 'climate_pr', 'climate_ro',\n",
    "       'climate_soil', 'climate_srad', 'climate_swe', 'climate_tmmn',\n",
    "       'climate_tmmx', 'climate_vap', 'climate_vpd', 'climate_vs', 'elevation',\n",
    "       'landcover_0', 'landcover_1', 'landcover_2', 'landcover_3',\n",
    "       'landcover_4', 'landcover_5', 'landcover_6', 'landcover_7',\n",
    "       'landcover_8', 'precipitation', 'month', 'year', 'lat', 'lon']\n",
    "target_col = 'burn_area'\n",
    "len(in_cols)"
   ]
  },
  {
   "cell_type": "code",
   "execution_count": null,
   "metadata": {
    "colab": {
     "base_uri": "https://localhost:8080/"
    },
    "id": "p5FnNaQWQVxO",
    "outputId": "14681cac-ba02-42d8-a8bd-bf872148b393"
   },
   "outputs": [
    {
     "name": "stdout",
     "output_type": "stream",
     "text": [
      "['climate_vap', 'climate_tmmx', 'climate_pet', 'lat', 'landcover_5', 'lon', 'year', 'climate_ro', 'climate_srad', 'landcover_7', 'elevation', 'precipitation', 'month', 'climate_tmmn', 'climate_vs', 'climate_pr', 'climate_aet', 'climate_pdsi', 'landcover_8', 'landcover_2', 'climate_soil', 'landcover_0', 'climate_def', 'climate_vpd']\n"
     ]
    }
   ],
   "source": [
    "# Define input and output columns - you can play with adding or removing inputs to the model\n",
    "in_cols = added_features\n",
    "target_col = 'burn_area'\n",
    "print(in_cols)"
   ]
  },
  {
   "cell_type": "code",
   "execution_count": null,
   "metadata": {
    "colab": {
     "base_uri": "https://localhost:8080/"
    },
    "id": "Ty0pwhjriyXk",
    "outputId": "cfa151e4-6aac-4e98-c0d5-860ed3bfc676"
   },
   "outputs": [
    {
     "data": {
      "text/plain": [
       "29"
      ]
     },
     "execution_count": 147,
     "metadata": {
      "tags": []
     },
     "output_type": "execute_result"
    }
   ],
   "source": [
    "len(in_cols)"
   ]
  },
  {
   "cell_type": "code",
   "execution_count": null,
   "metadata": {
    "id": "isI_-sfnzXED"
   },
   "outputs": [],
   "source": [
    "# Exercise. Try a RandomForestRegressor model. Use n_estimators=10 if the default takes too long to run, and experiment with the max_depth parameter."
   ]
  },
  {
   "cell_type": "code",
   "execution_count": null,
   "metadata": {
    "id": "rHuxj9Gk3JTB"
   },
   "outputs": [],
   "source": [
    "# Get our X and y training and validation sets ready\n",
    "\n",
    "from sklearn.linear_model import RidgeCV\n",
    "from sklearn.ensemble import RandomForestRegressor\n",
    "from sklearn.metrics import mean_squared_error, r2_score\n",
    "import matplotlib.pyplot as plt\n",
    "import seaborn as sns\n",
    "from scipy.stats import zscore\n",
    "from sklearn.linear_model import LinearRegression\n",
    "from sklearn.linear_model import Ridge\n",
    "from sklearn.linear_model import Lasso\n",
    "from sklearn.linear_model import ElasticNet\n",
    "from sklearn.ensemble import BaggingRegressor\n",
    "from sklearn.ensemble import RandomForestRegressor\n",
    "from sklearn.ensemble import ExtraTreesRegressor\n",
    "from sklearn.tree import DecisionTreeRegressor\n",
    "from sklearn.neighbors import KNeighborsRegressor\n",
    "from sklearn.svm import SVR\n",
    "from sklearn.metrics import explained_variance_score\n",
    "from sklearn.metrics import mean_absolute_error\n",
    "from catboost import CatBoostRegressor, Pool\n",
    "from sklearn.model_selection import GridSearchCV\n"
   ]
  },
  {
   "cell_type": "code",
   "execution_count": null,
   "metadata": {
    "colab": {
     "base_uri": "https://localhost:8080/",
     "height": 1000
    },
    "id": "xmK8kfNU7agI",
    "outputId": "8239f0c9-4b96-40f6-cbce-ee652adbe342"
   },
   "outputs": [
    {
     "name": "stdout",
     "output_type": "stream",
     "text": [
      "0:\tlearn: 0.0285114\ttotal: 52.8ms\tremaining: 5.23s\n",
      "1:\tlearn: 0.0278451\ttotal: 98.7ms\tremaining: 4.84s\n",
      "2:\tlearn: 0.0272447\ttotal: 144ms\tremaining: 4.66s\n",
      "3:\tlearn: 0.0266894\ttotal: 189ms\tremaining: 4.54s\n",
      "4:\tlearn: 0.0262125\ttotal: 234ms\tremaining: 4.45s\n",
      "5:\tlearn: 0.0258008\ttotal: 285ms\tremaining: 4.46s\n",
      "6:\tlearn: 0.0254214\ttotal: 330ms\tremaining: 4.38s\n",
      "7:\tlearn: 0.0250926\ttotal: 375ms\tremaining: 4.32s\n",
      "8:\tlearn: 0.0247848\ttotal: 421ms\tremaining: 4.25s\n",
      "9:\tlearn: 0.0245383\ttotal: 466ms\tremaining: 4.2s\n",
      "10:\tlearn: 0.0242912\ttotal: 515ms\tremaining: 4.17s\n",
      "11:\tlearn: 0.0240856\ttotal: 560ms\tremaining: 4.11s\n",
      "12:\tlearn: 0.0239052\ttotal: 605ms\tremaining: 4.05s\n",
      "13:\tlearn: 0.0237050\ttotal: 650ms\tremaining: 3.99s\n",
      "14:\tlearn: 0.0235467\ttotal: 695ms\tremaining: 3.94s\n",
      "15:\tlearn: 0.0233835\ttotal: 742ms\tremaining: 3.9s\n",
      "16:\tlearn: 0.0231973\ttotal: 787ms\tremaining: 3.84s\n",
      "17:\tlearn: 0.0230408\ttotal: 834ms\tremaining: 3.8s\n",
      "18:\tlearn: 0.0228855\ttotal: 879ms\tremaining: 3.75s\n",
      "19:\tlearn: 0.0227638\ttotal: 926ms\tremaining: 3.7s\n",
      "20:\tlearn: 0.0226444\ttotal: 975ms\tremaining: 3.67s\n",
      "21:\tlearn: 0.0225358\ttotal: 1.02s\tremaining: 3.62s\n",
      "22:\tlearn: 0.0224576\ttotal: 1.07s\tremaining: 3.6s\n",
      "23:\tlearn: 0.0223798\ttotal: 1.12s\tremaining: 3.55s\n",
      "24:\tlearn: 0.0222654\ttotal: 1.16s\tremaining: 3.49s\n",
      "25:\tlearn: 0.0221330\ttotal: 1.21s\tremaining: 3.45s\n",
      "26:\tlearn: 0.0220108\ttotal: 1.26s\tremaining: 3.4s\n",
      "27:\tlearn: 0.0219338\ttotal: 1.3s\tremaining: 3.35s\n",
      "28:\tlearn: 0.0218333\ttotal: 1.35s\tremaining: 3.3s\n",
      "29:\tlearn: 0.0217423\ttotal: 1.39s\tremaining: 3.25s\n",
      "30:\tlearn: 0.0216653\ttotal: 1.45s\tremaining: 3.23s\n",
      "31:\tlearn: 0.0215736\ttotal: 1.5s\tremaining: 3.18s\n",
      "32:\tlearn: 0.0214868\ttotal: 1.54s\tremaining: 3.13s\n",
      "33:\tlearn: 0.0214214\ttotal: 1.59s\tremaining: 3.08s\n",
      "34:\tlearn: 0.0213568\ttotal: 1.63s\tremaining: 3.03s\n",
      "35:\tlearn: 0.0212926\ttotal: 1.68s\tremaining: 2.99s\n",
      "36:\tlearn: 0.0212117\ttotal: 1.73s\tremaining: 2.95s\n",
      "37:\tlearn: 0.0211376\ttotal: 1.78s\tremaining: 2.9s\n",
      "38:\tlearn: 0.0210417\ttotal: 1.82s\tremaining: 2.85s\n",
      "39:\tlearn: 0.0209885\ttotal: 1.87s\tremaining: 2.81s\n",
      "40:\tlearn: 0.0209235\ttotal: 1.92s\tremaining: 2.76s\n",
      "41:\tlearn: 0.0208694\ttotal: 1.97s\tremaining: 2.72s\n",
      "42:\tlearn: 0.0208338\ttotal: 2.01s\tremaining: 2.67s\n",
      "43:\tlearn: 0.0207773\ttotal: 2.06s\tremaining: 2.62s\n",
      "44:\tlearn: 0.0207074\ttotal: 2.11s\tremaining: 2.58s\n",
      "45:\tlearn: 0.0206314\ttotal: 2.16s\tremaining: 2.54s\n",
      "46:\tlearn: 0.0205607\ttotal: 2.21s\tremaining: 2.49s\n",
      "47:\tlearn: 0.0204995\ttotal: 2.25s\tremaining: 2.44s\n",
      "48:\tlearn: 0.0204565\ttotal: 2.3s\tremaining: 2.39s\n",
      "49:\tlearn: 0.0203970\ttotal: 2.34s\tremaining: 2.34s\n",
      "50:\tlearn: 0.0203471\ttotal: 2.39s\tremaining: 2.3s\n",
      "51:\tlearn: 0.0202911\ttotal: 2.44s\tremaining: 2.25s\n",
      "52:\tlearn: 0.0202296\ttotal: 2.48s\tremaining: 2.2s\n",
      "53:\tlearn: 0.0201938\ttotal: 2.53s\tremaining: 2.15s\n",
      "54:\tlearn: 0.0201252\ttotal: 2.57s\tremaining: 2.11s\n",
      "55:\tlearn: 0.0200627\ttotal: 2.62s\tremaining: 2.06s\n",
      "56:\tlearn: 0.0200021\ttotal: 2.67s\tremaining: 2.01s\n",
      "57:\tlearn: 0.0199509\ttotal: 2.71s\tremaining: 1.97s\n",
      "58:\tlearn: 0.0198894\ttotal: 2.76s\tremaining: 1.92s\n",
      "59:\tlearn: 0.0198480\ttotal: 2.81s\tremaining: 1.87s\n",
      "60:\tlearn: 0.0197884\ttotal: 2.85s\tremaining: 1.82s\n",
      "61:\tlearn: 0.0197384\ttotal: 2.9s\tremaining: 1.78s\n",
      "62:\tlearn: 0.0196978\ttotal: 2.95s\tremaining: 1.73s\n",
      "63:\tlearn: 0.0196636\ttotal: 2.99s\tremaining: 1.68s\n",
      "64:\tlearn: 0.0196140\ttotal: 3.04s\tremaining: 1.64s\n",
      "65:\tlearn: 0.0195752\ttotal: 3.09s\tremaining: 1.59s\n",
      "66:\tlearn: 0.0195210\ttotal: 3.14s\tremaining: 1.55s\n",
      "67:\tlearn: 0.0194593\ttotal: 3.19s\tremaining: 1.5s\n",
      "68:\tlearn: 0.0194125\ttotal: 3.23s\tremaining: 1.45s\n",
      "69:\tlearn: 0.0193635\ttotal: 3.28s\tremaining: 1.41s\n",
      "70:\tlearn: 0.0193131\ttotal: 3.33s\tremaining: 1.36s\n",
      "71:\tlearn: 0.0192701\ttotal: 3.37s\tremaining: 1.31s\n",
      "72:\tlearn: 0.0192512\ttotal: 3.42s\tremaining: 1.26s\n",
      "73:\tlearn: 0.0192189\ttotal: 3.46s\tremaining: 1.22s\n",
      "74:\tlearn: 0.0191767\ttotal: 3.51s\tremaining: 1.17s\n",
      "75:\tlearn: 0.0191499\ttotal: 3.56s\tremaining: 1.12s\n",
      "76:\tlearn: 0.0191194\ttotal: 3.6s\tremaining: 1.08s\n",
      "77:\tlearn: 0.0190399\ttotal: 3.65s\tremaining: 1.03s\n",
      "78:\tlearn: 0.0190154\ttotal: 3.7s\tremaining: 983ms\n",
      "79:\tlearn: 0.0189398\ttotal: 3.74s\tremaining: 936ms\n",
      "80:\tlearn: 0.0189207\ttotal: 3.79s\tremaining: 889ms\n",
      "81:\tlearn: 0.0188737\ttotal: 3.84s\tremaining: 842ms\n",
      "82:\tlearn: 0.0188403\ttotal: 3.88s\tremaining: 795ms\n",
      "83:\tlearn: 0.0188138\ttotal: 3.93s\tremaining: 749ms\n",
      "84:\tlearn: 0.0187899\ttotal: 3.98s\tremaining: 702ms\n",
      "85:\tlearn: 0.0187513\ttotal: 4.02s\tremaining: 655ms\n",
      "86:\tlearn: 0.0187113\ttotal: 4.07s\tremaining: 608ms\n",
      "87:\tlearn: 0.0186627\ttotal: 4.12s\tremaining: 562ms\n",
      "88:\tlearn: 0.0186411\ttotal: 4.17s\tremaining: 515ms\n",
      "89:\tlearn: 0.0186163\ttotal: 4.22s\tremaining: 469ms\n",
      "90:\tlearn: 0.0185864\ttotal: 4.27s\tremaining: 422ms\n",
      "91:\tlearn: 0.0185460\ttotal: 4.32s\tremaining: 375ms\n",
      "92:\tlearn: 0.0185114\ttotal: 4.36s\tremaining: 328ms\n",
      "93:\tlearn: 0.0184602\ttotal: 4.41s\tremaining: 281ms\n",
      "94:\tlearn: 0.0184378\ttotal: 4.45s\tremaining: 234ms\n",
      "95:\tlearn: 0.0184004\ttotal: 4.5s\tremaining: 188ms\n",
      "96:\tlearn: 0.0183582\ttotal: 4.55s\tremaining: 141ms\n",
      "97:\tlearn: 0.0183345\ttotal: 4.6s\tremaining: 93.9ms\n",
      "98:\tlearn: 0.0183088\ttotal: 4.65s\tremaining: 47ms\n",
      "99:\tlearn: 0.0182619\ttotal: 4.71s\tremaining: 0us\n",
      "\n",
      "========================================================\n",
      " Results from Grid Search \n",
      "========================================================\n",
      "\n",
      " The best estimator across ALL searched params:\n",
      " <catboost.core.CatBoostRegressor object at 0x7fdc89a2be48>\n",
      "\n",
      " The best score across ALL searched params:\n",
      " 0.2991172104740758\n",
      "\n",
      " The best parameters across ALL searched params:\n",
      " {'border_count': 40, 'depth': 10, 'iterations': 100, 'learning_rate': 0.1}\n",
      "CATBOOST  0.019369847943673666\n"
     ]
    },
    {
     "data": {
      "application/vnd.google.colaboratory.intrinsic+json": {
       "type": "string"
      },
      "text/plain": [
       "'\\nfor name, model in models:\\n    # Fit the model\\n    model.fit(X_train, y_train)\\n    \\n    predictions = model.predict(X_valid)\\n    \\n    # Evaluate the model\\n    score = mean_squared_error(y_valid, predictions)**0.5\\n\\n    results.append(score)\\n    names.append(name)\\n    \\n    msg = \"%s: %f \" % (name, score)\\n    print(msg)\\n    '"
      ]
     },
     "execution_count": 152,
     "metadata": {
      "tags": []
     },
     "output_type": "execute_result"
    }
   ],
   "source": [
    "# create array of models to evaluate\n",
    "models = []\n",
    "'''\n",
    "models.append(('LiR', LinearRegression()))\n",
    "models.append(('Ridge', Ridge()))\n",
    "models.append(('RidgeCV', RidgeCV()))\n",
    "models.append(('Lasso', Lasso()))\n",
    "models.append(('ElasticNet', ElasticNet()))\n",
    "models.append(('Bag_Re', BaggingRegressor()))\n",
    "models.append(('RandomForest', RandomForestRegressor(n_estimators=10)))\n",
    "models.append(('ExtraTreesRegressor', ExtraTreesRegressor(n_estimators=10)))\n",
    "models.append(('KNN', KNeighborsRegressor()))\n",
    "models.append(('CART', DecisionTreeRegressor()))\n",
    "models.append(('SVM', SVR()))\n",
    "'''\n",
    "models.append(('CatBoost',CatBoostRegressor(depth=10)))\n",
    "\n",
    "\n",
    "parameters = {'depth'         : [10],\n",
    "                 'learning_rate' : [0.1],\n",
    "                 'iterations'    : [100],\n",
    "           'border_count':[35, 40, 45, 50, 55],\n",
    "                }\n",
    "\n",
    "grid = GridSearchCV(estimator=model, param_grid = parameters, cv = 2, n_jobs=-1)\n",
    "grid.fit(X_train, y_train)   \n",
    "\n",
    "# Results from Grid Search\n",
    "print(\"\\n========================================================\")\n",
    "print(\" Results from Grid Search \" )\n",
    "print(\"========================================================\")   \n",
    "  \n",
    "print(\"\\n The best estimator across ALL searched params:\\n\",\n",
    "         grid.best_estimator_)\n",
    "  \n",
    "print(\"\\n The best score across ALL searched params:\\n\",\n",
    "         grid.best_score_)\n",
    "  \n",
    "print(\"\\n The best parameters across ALL searched params:\\n\",\n",
    "         grid.best_params_)\n",
    "\n",
    "predictions = model.predict(X_valid)\n",
    "\n",
    "score = mean_squared_error(y_valid, predictions)**0.5\n",
    "    \n",
    "# Evaluate the model\n",
    "print(\"CATBOOST \" , str(score))\n",
    "\n",
    "\n",
    "\n",
    "# Evaluations\n",
    "results = []\n",
    "names = []\n",
    "scoring = []\n",
    "'''\n",
    "for name, model in models:\n",
    "    # Fit the model\n",
    "    model.fit(X_train, y_train)\n",
    "    \n",
    "    predictions = model.predict(X_valid)\n",
    "    \n",
    "    # Evaluate the model\n",
    "    score = mean_squared_error(y_valid, predictions)**0.5\n",
    "\n",
    "    results.append(score)\n",
    "    names.append(name)\n",
    "    \n",
    "    msg = \"%s: %f \" % (name, score)\n",
    "    print(msg)\n",
    "    '''"
   ]
  },
  {
   "cell_type": "markdown",
   "metadata": {
    "id": "VK2ztL4XbH5q"
   },
   "source": []
  },
  {
   "cell_type": "code",
   "execution_count": null,
   "metadata": {
    "colab": {
     "base_uri": "https://localhost:8080/",
     "height": 69
    },
    "id": "A0OqTOCbbIol",
    "outputId": "dc2ff917-64c4-4579-f0d2-b8a236855ca6"
   },
   "outputs": [
    {
     "data": {
      "text/html": [
       "<div>\n",
       "<style scoped>\n",
       "    .dataframe tbody tr th:only-of-type {\n",
       "        vertical-align: middle;\n",
       "    }\n",
       "\n",
       "    .dataframe tbody tr th {\n",
       "        vertical-align: top;\n",
       "    }\n",
       "\n",
       "    .dataframe thead th {\n",
       "        text-align: right;\n",
       "    }\n",
       "</style>\n",
       "<table border=\"1\" class=\"dataframe\">\n",
       "  <thead>\n",
       "    <tr style=\"text-align: right;\">\n",
       "      <th></th>\n",
       "      <th>precipitation</th>\n",
       "      <th>lat</th>\n",
       "      <th>climate_vap</th>\n",
       "      <th>landcover_5</th>\n",
       "      <th>year</th>\n",
       "      <th>climate_srad</th>\n",
       "      <th>elevation</th>\n",
       "      <th>climate_pr</th>\n",
       "      <th>landcover_7</th>\n",
       "      <th>climate_tmmn</th>\n",
       "      <th>climate_vs</th>\n",
       "      <th>climate_ro</th>\n",
       "      <th>month</th>\n",
       "      <th>climate_aet</th>\n",
       "    </tr>\n",
       "  </thead>\n",
       "  <tbody>\n",
       "  </tbody>\n",
       "</table>\n",
       "</div>"
      ],
      "text/plain": [
       "Empty DataFrame\n",
       "Columns: [precipitation, lat, climate_vap, landcover_5, year, climate_srad, elevation, climate_pr, landcover_7, climate_tmmn, climate_vs, climate_ro, month, climate_aet]\n",
       "Index: []"
      ]
     },
     "execution_count": 66,
     "metadata": {
      "tags": []
     },
     "output_type": "execute_result"
    }
   ],
   "source": [
    "X_valid"
   ]
  },
  {
   "cell_type": "code",
   "execution_count": null,
   "metadata": {
    "colab": {
     "base_uri": "https://localhost:8080/"
    },
    "id": "Q1x1jMsEtTOd",
    "outputId": "29b19e5a-fee0-4413-fed4-1568a667a129"
   },
   "outputs": [
    {
     "name": "stdout",
     "output_type": "stream",
     "text": [
      "CATBOOST  0.021041430139979764\n"
     ]
    }
   ],
   "source": [
    "# Evaluate the model\n",
    "print(\"CATBOOST \" , str(score))"
   ]
  },
  {
   "cell_type": "markdown",
   "metadata": {
    "id": "Eq7DM0URkkai"
   },
   "source": [
    "# Making A Submission\n",
    "\n",
    "Once you've got some features and a model you're happy with, it's time to submit!"
   ]
  },
  {
   "cell_type": "code",
   "execution_count": null,
   "metadata": {
    "colab": {
     "base_uri": "https://localhost:8080/",
     "height": 226
    },
    "id": "MlKjnZ8WkvaX",
    "outputId": "51585f27-1378-4732-eca3-d57fc80a5de6"
   },
   "outputs": [
    {
     "data": {
      "text/html": [
       "<div>\n",
       "<style scoped>\n",
       "    .dataframe tbody tr th:only-of-type {\n",
       "        vertical-align: middle;\n",
       "    }\n",
       "\n",
       "    .dataframe tbody tr th {\n",
       "        vertical-align: top;\n",
       "    }\n",
       "\n",
       "    .dataframe thead th {\n",
       "        text-align: right;\n",
       "    }\n",
       "</style>\n",
       "<table border=\"1\" class=\"dataframe\">\n",
       "  <thead>\n",
       "    <tr style=\"text-align: right;\">\n",
       "      <th></th>\n",
       "      <th>ID</th>\n",
       "      <th>lat</th>\n",
       "      <th>lon</th>\n",
       "      <th>climate_aet</th>\n",
       "      <th>climate_def</th>\n",
       "      <th>climate_pdsi</th>\n",
       "      <th>climate_pet</th>\n",
       "      <th>climate_pr</th>\n",
       "      <th>climate_ro</th>\n",
       "      <th>climate_soil</th>\n",
       "      <th>climate_srad</th>\n",
       "      <th>climate_swe</th>\n",
       "      <th>climate_tmmn</th>\n",
       "      <th>climate_tmmx</th>\n",
       "      <th>climate_vap</th>\n",
       "      <th>climate_vpd</th>\n",
       "      <th>climate_vs</th>\n",
       "      <th>elevation</th>\n",
       "      <th>landcover_0</th>\n",
       "      <th>landcover_1</th>\n",
       "      <th>landcover_2</th>\n",
       "      <th>landcover_3</th>\n",
       "      <th>landcover_4</th>\n",
       "      <th>landcover_5</th>\n",
       "      <th>landcover_6</th>\n",
       "      <th>landcover_7</th>\n",
       "      <th>landcover_8</th>\n",
       "      <th>precipitation</th>\n",
       "      <th>date</th>\n",
       "      <th>month</th>\n",
       "      <th>year</th>\n",
       "    </tr>\n",
       "  </thead>\n",
       "  <tbody>\n",
       "    <tr>\n",
       "      <th>0</th>\n",
       "      <td>0_2014-01-01</td>\n",
       "      <td>-15.858835</td>\n",
       "      <td>29.237029</td>\n",
       "      <td>1146</td>\n",
       "      <td>74</td>\n",
       "      <td>-451</td>\n",
       "      <td>1220</td>\n",
       "      <td>120</td>\n",
       "      <td>6</td>\n",
       "      <td>212</td>\n",
       "      <td>1974</td>\n",
       "      <td>0</td>\n",
       "      <td>217</td>\n",
       "      <td>303</td>\n",
       "      <td>2481</td>\n",
       "      <td>99</td>\n",
       "      <td>148</td>\n",
       "      <td>413.474762</td>\n",
       "      <td>0.0</td>\n",
       "      <td>0.000615</td>\n",
       "      <td>0.015418</td>\n",
       "      <td>0.0</td>\n",
       "      <td>0.416704</td>\n",
       "      <td>0.023724</td>\n",
       "      <td>0.530016</td>\n",
       "      <td>0.013524</td>\n",
       "      <td>0.0</td>\n",
       "      <td>0.404243</td>\n",
       "      <td>2014-01-01</td>\n",
       "      <td>1</td>\n",
       "      <td>2014</td>\n",
       "    </tr>\n",
       "    <tr>\n",
       "      <th>1</th>\n",
       "      <td>1_2014-01-01</td>\n",
       "      <td>-15.858835</td>\n",
       "      <td>29.487029</td>\n",
       "      <td>1118</td>\n",
       "      <td>98</td>\n",
       "      <td>-405</td>\n",
       "      <td>1216</td>\n",
       "      <td>117</td>\n",
       "      <td>6</td>\n",
       "      <td>330</td>\n",
       "      <td>1973</td>\n",
       "      <td>0</td>\n",
       "      <td>216</td>\n",
       "      <td>304</td>\n",
       "      <td>2481</td>\n",
       "      <td>100</td>\n",
       "      <td>143</td>\n",
       "      <td>429.034543</td>\n",
       "      <td>0.0</td>\n",
       "      <td>0.000000</td>\n",
       "      <td>0.000000</td>\n",
       "      <td>0.0</td>\n",
       "      <td>0.406436</td>\n",
       "      <td>0.000446</td>\n",
       "      <td>0.593118</td>\n",
       "      <td>0.000000</td>\n",
       "      <td>0.0</td>\n",
       "      <td>0.421489</td>\n",
       "      <td>2014-01-01</td>\n",
       "      <td>1</td>\n",
       "      <td>2014</td>\n",
       "    </tr>\n",
       "    <tr>\n",
       "      <th>2</th>\n",
       "      <td>2_2014-01-01</td>\n",
       "      <td>-15.858835</td>\n",
       "      <td>29.737029</td>\n",
       "      <td>1067</td>\n",
       "      <td>137</td>\n",
       "      <td>-468</td>\n",
       "      <td>1204</td>\n",
       "      <td>111</td>\n",
       "      <td>6</td>\n",
       "      <td>194</td>\n",
       "      <td>1958</td>\n",
       "      <td>0</td>\n",
       "      <td>214</td>\n",
       "      <td>302</td>\n",
       "      <td>2465</td>\n",
       "      <td>97</td>\n",
       "      <td>143</td>\n",
       "      <td>477.246432</td>\n",
       "      <td>0.0</td>\n",
       "      <td>0.000000</td>\n",
       "      <td>0.000000</td>\n",
       "      <td>0.0</td>\n",
       "      <td>0.254791</td>\n",
       "      <td>0.000000</td>\n",
       "      <td>0.745209</td>\n",
       "      <td>0.000000</td>\n",
       "      <td>0.0</td>\n",
       "      <td>0.419122</td>\n",
       "      <td>2014-01-01</td>\n",
       "      <td>1</td>\n",
       "      <td>2014</td>\n",
       "    </tr>\n",
       "    <tr>\n",
       "      <th>3</th>\n",
       "      <td>3_2014-01-01</td>\n",
       "      <td>-15.858835</td>\n",
       "      <td>29.987029</td>\n",
       "      <td>969</td>\n",
       "      <td>187</td>\n",
       "      <td>-533</td>\n",
       "      <td>1156</td>\n",
       "      <td>101</td>\n",
       "      <td>5</td>\n",
       "      <td>78</td>\n",
       "      <td>1954</td>\n",
       "      <td>0</td>\n",
       "      <td>202</td>\n",
       "      <td>290</td>\n",
       "      <td>2317</td>\n",
       "      <td>88</td>\n",
       "      <td>122</td>\n",
       "      <td>646.388681</td>\n",
       "      <td>0.0</td>\n",
       "      <td>0.000000</td>\n",
       "      <td>0.000000</td>\n",
       "      <td>0.0</td>\n",
       "      <td>0.219340</td>\n",
       "      <td>0.182153</td>\n",
       "      <td>0.598507</td>\n",
       "      <td>0.000000</td>\n",
       "      <td>0.0</td>\n",
       "      <td>0.404596</td>\n",
       "      <td>2014-01-01</td>\n",
       "      <td>1</td>\n",
       "      <td>2014</td>\n",
       "    </tr>\n",
       "    <tr>\n",
       "      <th>4</th>\n",
       "      <td>4_2014-01-01</td>\n",
       "      <td>-15.858835</td>\n",
       "      <td>30.237029</td>\n",
       "      <td>927</td>\n",
       "      <td>270</td>\n",
       "      <td>-505</td>\n",
       "      <td>1197</td>\n",
       "      <td>96</td>\n",
       "      <td>5</td>\n",
       "      <td>139</td>\n",
       "      <td>1939</td>\n",
       "      <td>0</td>\n",
       "      <td>210</td>\n",
       "      <td>301</td>\n",
       "      <td>2412</td>\n",
       "      <td>99</td>\n",
       "      <td>143</td>\n",
       "      <td>582.340637</td>\n",
       "      <td>0.0</td>\n",
       "      <td>0.000000</td>\n",
       "      <td>0.000000</td>\n",
       "      <td>0.0</td>\n",
       "      <td>0.220239</td>\n",
       "      <td>0.097748</td>\n",
       "      <td>0.682013</td>\n",
       "      <td>0.000000</td>\n",
       "      <td>0.0</td>\n",
       "      <td>0.371100</td>\n",
       "      <td>2014-01-01</td>\n",
       "      <td>1</td>\n",
       "      <td>2014</td>\n",
       "    </tr>\n",
       "  </tbody>\n",
       "</table>\n",
       "</div>"
      ],
      "text/plain": [
       "             ID        lat        lon  ...       date  month  year\n",
       "0  0_2014-01-01 -15.858835  29.237029  ... 2014-01-01      1  2014\n",
       "1  1_2014-01-01 -15.858835  29.487029  ... 2014-01-01      1  2014\n",
       "2  2_2014-01-01 -15.858835  29.737029  ... 2014-01-01      1  2014\n",
       "3  3_2014-01-01 -15.858835  29.987029  ... 2014-01-01      1  2014\n",
       "4  4_2014-01-01 -15.858835  30.237029  ... 2014-01-01      1  2014\n",
       "\n",
       "[5 rows x 31 columns]"
      ]
     },
     "execution_count": 42,
     "metadata": {
      "tags": []
     },
     "output_type": "execute_result"
    }
   ],
   "source": [
    "# And the test data\n",
    "test.head()"
   ]
  },
  {
   "cell_type": "code",
   "execution_count": null,
   "metadata": {
    "colab": {
     "base_uri": "https://localhost:8080/",
     "height": 1000
    },
    "id": "HItSe6MCkyPB",
    "outputId": "56eddd3a-786f-47ed-e307-b1b11bd3990f"
   },
   "outputs": [
    {
     "name": "stdout",
     "output_type": "stream",
     "text": [
      "0:\tlearn: 0.0284877\ttotal: 96.2ms\tremaining: 9.53s\n",
      "1:\tlearn: 0.0278339\ttotal: 192ms\tremaining: 9.4s\n",
      "2:\tlearn: 0.0273211\ttotal: 286ms\tremaining: 9.24s\n",
      "3:\tlearn: 0.0268012\ttotal: 386ms\tremaining: 9.27s\n",
      "4:\tlearn: 0.0263197\ttotal: 485ms\tremaining: 9.21s\n",
      "5:\tlearn: 0.0259621\ttotal: 580ms\tremaining: 9.09s\n",
      "6:\tlearn: 0.0255935\ttotal: 688ms\tremaining: 9.14s\n",
      "7:\tlearn: 0.0253001\ttotal: 782ms\tremaining: 8.99s\n",
      "8:\tlearn: 0.0250388\ttotal: 874ms\tremaining: 8.84s\n",
      "9:\tlearn: 0.0247529\ttotal: 963ms\tremaining: 8.66s\n",
      "10:\tlearn: 0.0244920\ttotal: 1.06s\tremaining: 8.55s\n",
      "11:\tlearn: 0.0243021\ttotal: 1.15s\tremaining: 8.43s\n",
      "12:\tlearn: 0.0241170\ttotal: 1.24s\tremaining: 8.32s\n",
      "13:\tlearn: 0.0239276\ttotal: 1.34s\tremaining: 8.25s\n",
      "14:\tlearn: 0.0237715\ttotal: 1.44s\tremaining: 8.16s\n",
      "15:\tlearn: 0.0236048\ttotal: 1.54s\tremaining: 8.06s\n",
      "16:\tlearn: 0.0234381\ttotal: 1.63s\tremaining: 7.97s\n",
      "17:\tlearn: 0.0232701\ttotal: 1.73s\tremaining: 7.87s\n",
      "18:\tlearn: 0.0231767\ttotal: 1.83s\tremaining: 7.8s\n",
      "19:\tlearn: 0.0230348\ttotal: 1.92s\tremaining: 7.68s\n",
      "20:\tlearn: 0.0229102\ttotal: 2.01s\tremaining: 7.57s\n",
      "21:\tlearn: 0.0228027\ttotal: 2.11s\tremaining: 7.49s\n",
      "22:\tlearn: 0.0227039\ttotal: 2.19s\tremaining: 7.35s\n",
      "23:\tlearn: 0.0225533\ttotal: 2.28s\tremaining: 7.22s\n",
      "24:\tlearn: 0.0224526\ttotal: 2.37s\tremaining: 7.12s\n",
      "25:\tlearn: 0.0223464\ttotal: 2.46s\tremaining: 7.01s\n",
      "26:\tlearn: 0.0222593\ttotal: 2.56s\tremaining: 6.93s\n",
      "27:\tlearn: 0.0221642\ttotal: 2.66s\tremaining: 6.84s\n",
      "28:\tlearn: 0.0220568\ttotal: 2.75s\tremaining: 6.73s\n",
      "29:\tlearn: 0.0219787\ttotal: 2.83s\tremaining: 6.6s\n",
      "30:\tlearn: 0.0219070\ttotal: 2.92s\tremaining: 6.5s\n",
      "31:\tlearn: 0.0218518\ttotal: 3.01s\tremaining: 6.39s\n",
      "32:\tlearn: 0.0217804\ttotal: 3.11s\tremaining: 6.31s\n",
      "33:\tlearn: 0.0217193\ttotal: 3.21s\tremaining: 6.23s\n",
      "34:\tlearn: 0.0216673\ttotal: 3.29s\tremaining: 6.11s\n",
      "35:\tlearn: 0.0215948\ttotal: 3.39s\tremaining: 6.02s\n",
      "36:\tlearn: 0.0215360\ttotal: 3.48s\tremaining: 5.92s\n",
      "37:\tlearn: 0.0214708\ttotal: 3.58s\tremaining: 5.84s\n",
      "38:\tlearn: 0.0214163\ttotal: 3.69s\tremaining: 5.77s\n",
      "39:\tlearn: 0.0213737\ttotal: 3.77s\tremaining: 5.65s\n",
      "40:\tlearn: 0.0213241\ttotal: 3.85s\tremaining: 5.55s\n",
      "41:\tlearn: 0.0212695\ttotal: 3.96s\tremaining: 5.47s\n",
      "42:\tlearn: 0.0212094\ttotal: 4.05s\tremaining: 5.37s\n",
      "43:\tlearn: 0.0211634\ttotal: 4.16s\tremaining: 5.3s\n",
      "44:\tlearn: 0.0211180\ttotal: 4.26s\tremaining: 5.21s\n",
      "45:\tlearn: 0.0210513\ttotal: 4.39s\tremaining: 5.15s\n",
      "46:\tlearn: 0.0209942\ttotal: 4.5s\tremaining: 5.07s\n",
      "47:\tlearn: 0.0209411\ttotal: 4.59s\tremaining: 4.97s\n",
      "48:\tlearn: 0.0208792\ttotal: 4.7s\tremaining: 4.89s\n",
      "49:\tlearn: 0.0208515\ttotal: 4.81s\tremaining: 4.81s\n",
      "50:\tlearn: 0.0208001\ttotal: 4.89s\tremaining: 4.7s\n",
      "51:\tlearn: 0.0207683\ttotal: 5.01s\tremaining: 4.62s\n",
      "52:\tlearn: 0.0207183\ttotal: 5.1s\tremaining: 4.52s\n",
      "53:\tlearn: 0.0206812\ttotal: 5.21s\tremaining: 4.43s\n",
      "54:\tlearn: 0.0206345\ttotal: 5.31s\tremaining: 4.35s\n",
      "55:\tlearn: 0.0205961\ttotal: 5.42s\tremaining: 4.26s\n",
      "56:\tlearn: 0.0205821\ttotal: 5.53s\tremaining: 4.17s\n",
      "57:\tlearn: 0.0205579\ttotal: 5.63s\tremaining: 4.08s\n",
      "58:\tlearn: 0.0205177\ttotal: 5.74s\tremaining: 3.98s\n",
      "59:\tlearn: 0.0204842\ttotal: 5.84s\tremaining: 3.89s\n",
      "60:\tlearn: 0.0204535\ttotal: 5.94s\tremaining: 3.8s\n",
      "61:\tlearn: 0.0204073\ttotal: 6.04s\tremaining: 3.7s\n",
      "62:\tlearn: 0.0203911\ttotal: 6.13s\tremaining: 3.6s\n",
      "63:\tlearn: 0.0203562\ttotal: 6.22s\tremaining: 3.5s\n",
      "64:\tlearn: 0.0203189\ttotal: 6.33s\tremaining: 3.41s\n",
      "65:\tlearn: 0.0202957\ttotal: 6.43s\tremaining: 3.31s\n",
      "66:\tlearn: 0.0202488\ttotal: 6.51s\tremaining: 3.21s\n",
      "67:\tlearn: 0.0202181\ttotal: 6.62s\tremaining: 3.11s\n",
      "68:\tlearn: 0.0202029\ttotal: 6.72s\tremaining: 3.02s\n",
      "69:\tlearn: 0.0201726\ttotal: 6.83s\tremaining: 2.92s\n",
      "70:\tlearn: 0.0201232\ttotal: 6.91s\tremaining: 2.82s\n",
      "71:\tlearn: 0.0200989\ttotal: 7.04s\tremaining: 2.74s\n",
      "72:\tlearn: 0.0200792\ttotal: 7.13s\tremaining: 2.64s\n",
      "73:\tlearn: 0.0200447\ttotal: 7.24s\tremaining: 2.54s\n",
      "74:\tlearn: 0.0200158\ttotal: 7.34s\tremaining: 2.45s\n",
      "75:\tlearn: 0.0199825\ttotal: 7.43s\tremaining: 2.35s\n",
      "76:\tlearn: 0.0199511\ttotal: 7.54s\tremaining: 2.25s\n",
      "77:\tlearn: 0.0199176\ttotal: 7.62s\tremaining: 2.15s\n",
      "78:\tlearn: 0.0199042\ttotal: 7.73s\tremaining: 2.06s\n",
      "79:\tlearn: 0.0198704\ttotal: 7.83s\tremaining: 1.96s\n",
      "80:\tlearn: 0.0198338\ttotal: 7.92s\tremaining: 1.86s\n",
      "81:\tlearn: 0.0198020\ttotal: 8s\tremaining: 1.75s\n",
      "82:\tlearn: 0.0197967\ttotal: 8.08s\tremaining: 1.66s\n",
      "83:\tlearn: 0.0197707\ttotal: 8.18s\tremaining: 1.56s\n",
      "84:\tlearn: 0.0197368\ttotal: 8.29s\tremaining: 1.46s\n",
      "85:\tlearn: 0.0197125\ttotal: 8.37s\tremaining: 1.36s\n",
      "86:\tlearn: 0.0196745\ttotal: 8.48s\tremaining: 1.27s\n",
      "87:\tlearn: 0.0196373\ttotal: 8.58s\tremaining: 1.17s\n",
      "88:\tlearn: 0.0196025\ttotal: 8.69s\tremaining: 1.07s\n",
      "89:\tlearn: 0.0195902\ttotal: 8.78s\tremaining: 976ms\n",
      "90:\tlearn: 0.0195529\ttotal: 8.86s\tremaining: 876ms\n",
      "91:\tlearn: 0.0195200\ttotal: 8.94s\tremaining: 778ms\n",
      "92:\tlearn: 0.0194854\ttotal: 9.03s\tremaining: 679ms\n",
      "93:\tlearn: 0.0194614\ttotal: 9.12s\tremaining: 582ms\n",
      "94:\tlearn: 0.0194330\ttotal: 9.21s\tremaining: 485ms\n",
      "95:\tlearn: 0.0194278\ttotal: 9.29s\tremaining: 387ms\n",
      "96:\tlearn: 0.0193984\ttotal: 9.39s\tremaining: 291ms\n",
      "97:\tlearn: 0.0193828\ttotal: 9.52s\tremaining: 194ms\n",
      "98:\tlearn: 0.0193543\ttotal: 9.61s\tremaining: 97.1ms\n",
      "99:\tlearn: 0.0193357\ttotal: 9.71s\tremaining: 0us\n"
     ]
    },
    {
     "data": {
      "text/html": [
       "<div>\n",
       "<style scoped>\n",
       "    .dataframe tbody tr th:only-of-type {\n",
       "        vertical-align: middle;\n",
       "    }\n",
       "\n",
       "    .dataframe tbody tr th {\n",
       "        vertical-align: top;\n",
       "    }\n",
       "\n",
       "    .dataframe thead th {\n",
       "        text-align: right;\n",
       "    }\n",
       "</style>\n",
       "<table border=\"1\" class=\"dataframe\">\n",
       "  <thead>\n",
       "    <tr style=\"text-align: right;\">\n",
       "      <th></th>\n",
       "      <th>ID</th>\n",
       "      <th>burn_area</th>\n",
       "    </tr>\n",
       "  </thead>\n",
       "  <tbody>\n",
       "    <tr>\n",
       "      <th>0</th>\n",
       "      <td>0_2014-01-01</td>\n",
       "      <td>0.0</td>\n",
       "    </tr>\n",
       "    <tr>\n",
       "      <th>1</th>\n",
       "      <td>1_2014-01-01</td>\n",
       "      <td>0.0</td>\n",
       "    </tr>\n",
       "    <tr>\n",
       "      <th>2</th>\n",
       "      <td>2_2014-01-01</td>\n",
       "      <td>0.0</td>\n",
       "    </tr>\n",
       "    <tr>\n",
       "      <th>3</th>\n",
       "      <td>3_2014-01-01</td>\n",
       "      <td>0.0</td>\n",
       "    </tr>\n",
       "    <tr>\n",
       "      <th>4</th>\n",
       "      <td>4_2014-01-01</td>\n",
       "      <td>0.0</td>\n",
       "    </tr>\n",
       "  </tbody>\n",
       "</table>\n",
       "</div>"
      ],
      "text/plain": [
       "             ID  burn_area\n",
       "0  0_2014-01-01        0.0\n",
       "1  1_2014-01-01        0.0\n",
       "2  2_2014-01-01        0.0\n",
       "3  3_2014-01-01        0.0\n",
       "4  4_2014-01-01        0.0"
      ]
     },
     "execution_count": 170,
     "metadata": {
      "tags": []
     },
     "output_type": "execute_result"
    }
   ],
   "source": [
    "# Using all data for train\n",
    "X_train, y_train = train_all[in_cols], train_all[target_col]\n",
    "\n",
    "# model chosen\n",
    "model = CatBoostRegressor(depth = 10, iterations = 100, learning_rate = 0.1, border_count = 32, grow_policy='Depthwise')\n",
    "\n",
    "model.fit(X_train, y_train)\n",
    "\n",
    "# Look at the sample submission file\n",
    "ss = pd.read_csv('SampleSubmission.csv')\n",
    "\n",
    "# So we need to predict the burn area for each row in test. \n",
    "\n",
    "# Add the same features to test as we did to train:\n",
    "test['month'] = test.date.dt.month\n",
    "test['year'] = test.date.dt.year\n",
    "\n",
    "# Get predictions\n",
    "preds = model.predict(test[in_cols].fillna(0)) # fillna(0) here could be improved by examining the missing data and filling more appropriately.\n",
    "\n",
    "# Add to submission dataframe\n",
    "#ss['Prediction'] = preds\n",
    "ss['burn_area'] = preds\n",
    "\n",
    "# Depending on your model, you may have some predictions that don't make sense. Let's constrain our predictions to the range (0, 1)\n",
    "#ss['Prediction'] = ss['Prediction'].clip(0, 1)\n",
    "ss['burn_area'] = ss['burn_area'].clip(0, 1)\n",
    "\n",
    "# View\n",
    "ss.head()"
   ]
  },
  {
   "cell_type": "markdown",
   "metadata": {
    "id": "13Ns-f5blIEs"
   },
   "source": []
  },
  {
   "cell_type": "code",
   "execution_count": null,
   "metadata": {
    "id": "BDFFtCiLt_WU"
   },
   "outputs": [],
   "source": [
    "# Save ready for submission:\n",
    "ss.to_csv('drive/My Drive/zindi/28_submission.csv', index=False)"
   ]
  },
  {
   "cell_type": "code",
   "execution_count": null,
   "metadata": {
    "colab": {
     "base_uri": "https://localhost:8080/",
     "height": 639
    },
    "id": "cj853uqAuASw",
    "outputId": "9595d756-5a47-4be4-cc8e-9be0b98ade96"
   },
   "outputs": [
    {
     "data": {
      "text/html": [
       "<div>\n",
       "<style scoped>\n",
       "    .dataframe tbody tr th:only-of-type {\n",
       "        vertical-align: middle;\n",
       "    }\n",
       "\n",
       "    .dataframe tbody tr th {\n",
       "        vertical-align: top;\n",
       "    }\n",
       "\n",
       "    .dataframe thead th {\n",
       "        text-align: right;\n",
       "    }\n",
       "</style>\n",
       "<table border=\"1\" class=\"dataframe\">\n",
       "  <thead>\n",
       "    <tr style=\"text-align: right;\">\n",
       "      <th></th>\n",
       "      <th>ID</th>\n",
       "      <th>burn_area</th>\n",
       "    </tr>\n",
       "  </thead>\n",
       "  <tbody>\n",
       "    <tr>\n",
       "      <th>25564</th>\n",
       "      <td>513_2017-12-01</td>\n",
       "      <td>0.000615</td>\n",
       "    </tr>\n",
       "    <tr>\n",
       "      <th>25565</th>\n",
       "      <td>514_2017-12-01</td>\n",
       "      <td>0.001683</td>\n",
       "    </tr>\n",
       "    <tr>\n",
       "      <th>25566</th>\n",
       "      <td>515_2017-12-01</td>\n",
       "      <td>0.000000</td>\n",
       "    </tr>\n",
       "    <tr>\n",
       "      <th>25567</th>\n",
       "      <td>516_2017-12-01</td>\n",
       "      <td>0.000000</td>\n",
       "    </tr>\n",
       "    <tr>\n",
       "      <th>25568</th>\n",
       "      <td>517_2017-12-01</td>\n",
       "      <td>0.000000</td>\n",
       "    </tr>\n",
       "    <tr>\n",
       "      <th>25569</th>\n",
       "      <td>518_2017-12-01</td>\n",
       "      <td>0.000000</td>\n",
       "    </tr>\n",
       "    <tr>\n",
       "      <th>25570</th>\n",
       "      <td>519_2017-12-01</td>\n",
       "      <td>0.000000</td>\n",
       "    </tr>\n",
       "    <tr>\n",
       "      <th>25571</th>\n",
       "      <td>520_2017-12-01</td>\n",
       "      <td>0.000000</td>\n",
       "    </tr>\n",
       "    <tr>\n",
       "      <th>25572</th>\n",
       "      <td>521_2017-12-01</td>\n",
       "      <td>0.002047</td>\n",
       "    </tr>\n",
       "    <tr>\n",
       "      <th>25573</th>\n",
       "      <td>522_2017-12-01</td>\n",
       "      <td>0.004264</td>\n",
       "    </tr>\n",
       "    <tr>\n",
       "      <th>25574</th>\n",
       "      <td>523_2017-12-01</td>\n",
       "      <td>0.002941</td>\n",
       "    </tr>\n",
       "    <tr>\n",
       "      <th>25575</th>\n",
       "      <td>524_2017-12-01</td>\n",
       "      <td>0.001406</td>\n",
       "    </tr>\n",
       "    <tr>\n",
       "      <th>25576</th>\n",
       "      <td>525_2017-12-01</td>\n",
       "      <td>0.001021</td>\n",
       "    </tr>\n",
       "    <tr>\n",
       "      <th>25577</th>\n",
       "      <td>526_2017-12-01</td>\n",
       "      <td>0.000000</td>\n",
       "    </tr>\n",
       "    <tr>\n",
       "      <th>25578</th>\n",
       "      <td>527_2017-12-01</td>\n",
       "      <td>0.000000</td>\n",
       "    </tr>\n",
       "    <tr>\n",
       "      <th>25579</th>\n",
       "      <td>528_2017-12-01</td>\n",
       "      <td>0.000000</td>\n",
       "    </tr>\n",
       "    <tr>\n",
       "      <th>25580</th>\n",
       "      <td>529_2017-12-01</td>\n",
       "      <td>0.000000</td>\n",
       "    </tr>\n",
       "    <tr>\n",
       "      <th>25581</th>\n",
       "      <td>530_2017-12-01</td>\n",
       "      <td>0.000000</td>\n",
       "    </tr>\n",
       "    <tr>\n",
       "      <th>25582</th>\n",
       "      <td>531_2017-12-01</td>\n",
       "      <td>0.001641</td>\n",
       "    </tr>\n",
       "    <tr>\n",
       "      <th>25583</th>\n",
       "      <td>532_2017-12-01</td>\n",
       "      <td>0.002995</td>\n",
       "    </tr>\n",
       "  </tbody>\n",
       "</table>\n",
       "</div>"
      ],
      "text/plain": [
       "                   ID  burn_area\n",
       "25564  513_2017-12-01   0.000615\n",
       "25565  514_2017-12-01   0.001683\n",
       "25566  515_2017-12-01   0.000000\n",
       "25567  516_2017-12-01   0.000000\n",
       "25568  517_2017-12-01   0.000000\n",
       "25569  518_2017-12-01   0.000000\n",
       "25570  519_2017-12-01   0.000000\n",
       "25571  520_2017-12-01   0.000000\n",
       "25572  521_2017-12-01   0.002047\n",
       "25573  522_2017-12-01   0.004264\n",
       "25574  523_2017-12-01   0.002941\n",
       "25575  524_2017-12-01   0.001406\n",
       "25576  525_2017-12-01   0.001021\n",
       "25577  526_2017-12-01   0.000000\n",
       "25578  527_2017-12-01   0.000000\n",
       "25579  528_2017-12-01   0.000000\n",
       "25580  529_2017-12-01   0.000000\n",
       "25581  530_2017-12-01   0.000000\n",
       "25582  531_2017-12-01   0.001641\n",
       "25583  532_2017-12-01   0.002995"
      ]
     },
     "execution_count": 128,
     "metadata": {
      "tags": []
     },
     "output_type": "execute_result"
    }
   ],
   "source": [
    "ss.tail(20)"
   ]
  },
  {
   "cell_type": "markdown",
   "metadata": {
    "id": "OeyjG8-4mK7Y"
   },
   "source": [
    "# Tips for improving your score\n",
    "\n",
    "- Once you've chosen a model, you should re-train it on all the data (including that which you previously held back for validation) to give it the best chance of succeeding\n",
    "- There is a timeseries component to this challenge. Think about how to use this to improve your accuracy.\n",
    "- Spend some time on feature engineering. Since no external data is allowed for this challenge, the winning solution will be the one that gets the most out of the data provided."
   ]
  },
  {
   "cell_type": "code",
   "execution_count": null,
   "metadata": {
    "id": "yUuqtHNKnO3r"
   },
   "outputs": [],
   "source": []
  }
 ],
 "metadata": {
  "colab": {
   "collapsed_sections": [],
   "name": "Fighting_Fire_with_Data_Starter_Notebook.ipynb",
   "provenance": [],
   "toc_visible": true
  },
  "kernelspec": {
   "display_name": "Python 3",
   "language": "python",
   "name": "python3"
  },
  "language_info": {
   "codemirror_mode": {
    "name": "ipython",
    "version": 3
   },
   "file_extension": ".py",
   "mimetype": "text/x-python",
   "name": "python",
   "nbconvert_exporter": "python",
   "pygments_lexer": "ipython3",
   "version": "3.8.3"
  }
 },
 "nbformat": 4,
 "nbformat_minor": 4
}
